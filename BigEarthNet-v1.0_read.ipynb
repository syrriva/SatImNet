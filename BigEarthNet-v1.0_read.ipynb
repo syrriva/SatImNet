{
 "cells": [
  {
   "cell_type": "markdown",
   "metadata": {},
   "source": [
    "# BigEarthNet-v1.0 training set @JEODPP\n",
    "\n",
    "- This notebook demonstrates how the user can have access to the **BigEarthNet-v1.0** collection stored at the JEODPP EOS storage system.\n",
    "- More specifically, it contains different ways of retrieving the **BigEarthNet-v1.0** images (input images and masks containing the class labels) which can be used as training data.\n",
    "\n",
    "**For more information:** \n",
    "\n",
    "- @GitLab: https://jeodpp.jrc.ec.europa.eu/apps/gitlab/jeodpp-services/training-sets-for-earth-observation-applications/-/wikis/home\n",
    "- @Connected: https://connected.cnect.cec.eu.int/groups/bigdataeoss \n",
    "- @Internet: https://jeodpp.jrc.ec.europa.eu/home/\n",
    "\n",
    "**Contacts:**  jrc-jeodpp@ec.europa.eu\n",
    "\n",
    "**Source data:** http://bigearth.net/\n",
    "\n",
    "<img src=\"https://cidportal.jrc.ec.europa.eu/services/shared/html/JRClogo2.png\" width=\"200\" height=\"200\" /> <img src=\"https://cidportal.jrc.ec.europa.eu/services/shared/html/JRCBigDataPlatform_512.png\" width=\"200\" height=\"200\" /> "
   ]
  },
  {
   "cell_type": "code",
   "execution_count": null,
   "metadata": {},
   "outputs": [],
   "source": [
    "import numpy as np\n",
    "import os, fnmatch, urllib.request\n",
    "import pandas as pd\n",
    "import json \n",
    "import matplotlib.pyplot as plt"
   ]
  },
  {
   "cell_type": "code",
   "execution_count": null,
   "metadata": {},
   "outputs": [],
   "source": [
    "# Please, download the script gdalRead.py into the working directory\n",
    "from gdalRead import gdalRead"
   ]
  },
  {
   "cell_type": "code",
   "execution_count": null,
   "metadata": {},
   "outputs": [],
   "source": [
    "%%HTML\n",
    "<style type=\"text/css\">\n",
    "table.dataframe td, table.dataframe th {\n",
    "    border: 1px  black solid !important;\n",
    "  color: black !important;\n",
    "}\n",
    "</style>"
   ]
  },
  {
   "cell_type": "code",
   "execution_count": null,
   "metadata": {},
   "outputs": [],
   "source": [
    "mainfolder = 'https://jeodpp.jrc.ec.europa.eu/ftp/public/MachineLearning/SatImNet'\n",
    "collection = 'BigEarthNet-v1.0'"
   ]
  },
  {
   "cell_type": "code",
   "execution_count": null,
   "metadata": {},
   "outputs": [],
   "source": [
    "def Query(tree, condition, flagpath=''):\n",
    "    def SeekLeaf(tree, condition, flagpath='', query=None):\n",
    "        if query is None:\n",
    "            query = []\n",
    "        obj = ['branch', 'zipfile', 'leaf']\n",
    "        if type(tree) == dict:\n",
    "            if tree['type'] == 'file':\n",
    "                keys = list(condition.keys())\n",
    "                flag = True\n",
    "                for k in keys:\n",
    "                    if k == 'class' and len(tree[k]) > 0 and len(condition[k]) == 0:\n",
    "                        flag = False\n",
    "                        break\n",
    "                    elif k == 'class' and len(condition[k]) != len(list(set(tree[k]) & set(condition[k]))):\n",
    "                        flag = False\n",
    "                        break\n",
    "                    elif k == 'size' and type(condition[k]) == list and len(condition[k]) == 2:\n",
    "                        if tree[k] < condition[k][0] or tree[k] > condition[k][1]:\n",
    "                            flag = False\n",
    "                            break\n",
    "                    elif 'metainfo' in k:\n",
    "                        k2 = k.split('_')[1]\n",
    "                        if k2 in ['numofbands', 'rows', 'columns'] and type(condition[k]) == list and len(condition[k]) == 2:\n",
    "                            try:\n",
    "                                if tree['metainfo'][k2] < condition[k][0] or tree['metainfo'][k2] > condition[k][1]:\n",
    "                                    flag = False\n",
    "                                    break\n",
    "                            except:\n",
    "                                print(tree['metainfo'], obj, tree['name'])\n",
    "                        elif condition[k] != tree['metainfo'][k2]:\n",
    "                            flag = False\n",
    "                            break\n",
    "                    elif k == 'path' and type(condition[k]) == str:\n",
    "                        if not condition[k] in tree[k]:\n",
    "                            flag = False\n",
    "                            break\n",
    "                    elif k == 'name':\n",
    "                        if not condition[k] in tree[k]:\n",
    "                            flag = False\n",
    "                            break\n",
    "                    elif k != 'class' and condition[k] != tree[k]:\n",
    "                        flag = False\n",
    "                        break\n",
    "                if flag:\n",
    "                    if 'path' in flagpath:\n",
    "                        query.append(tree['path'])\n",
    "                    else:\n",
    "                        query.append(tree)\n",
    "            else:\n",
    "                for t in obj:\n",
    "                    if len(tree[t]) > 0:\n",
    "                        query = SeekLeaf(tree[t], condition, flagpath, query)\n",
    "        elif type(tree) == list and '.txt' in tree[0]:\n",
    "            with urllib.request.urlopen(os.path.join(mainfolder, collection, tree[0])) as fidx:\n",
    "                txt_content = json.loads(fidx.read().decode())\n",
    "                query = SeekLeaf(txt_content, condition, flagpath, query)\n",
    "        elif type(tree) == list and len(tree) > 0:\n",
    "            for elem in range(len(tree)):\n",
    "                query = SeekLeaf(tree[elem], condition, flagpath, query)\n",
    "        return query\n",
    "    query = SeekLeaf(tree, condition, flagpath, [])\n",
    "    if flagpath != 'path_v':\n",
    "        print('Found %d record%s.' % (len(query), '' if len(query)==1 else 's'))\n",
    "    return query"
   ]
  },
  {
   "cell_type": "markdown",
   "metadata": {},
   "source": [
    "# Get info for the dataset"
   ]
  },
  {
   "cell_type": "code",
   "execution_count": null,
   "metadata": {
    "scrolled": true
   },
   "outputs": [],
   "source": [
    "# Read general info for all the datasets\n",
    "df = pd.read_json(os.path.join(mainfolder, 'Table.json'))\n",
    "cols = list(df.columns)\n",
    "cols.remove('Feature')\n",
    "df = df[['Feature']+cols]\n",
    "df"
   ]
  },
  {
   "cell_type": "code",
   "execution_count": null,
   "metadata": {},
   "outputs": [],
   "source": [
    "# Read specific info for BigEarthNet-v1.0\n",
    "pd.set_option('display.max_colwidth', 200)\n",
    "try: df.set_index('Feature', inplace=True);\n",
    "except: pass\n",
    "df[[collection]]"
   ]
  },
  {
   "cell_type": "markdown",
   "metadata": {},
   "source": [
    "# Read the structure of the BigEarthNet-v1.0 dataset"
   ]
  },
  {
   "cell_type": "code",
   "execution_count": null,
   "metadata": {},
   "outputs": [],
   "source": [
    "with urllib.request.urlopen(os.path.join(mainfolder, collection, 'content_public.json')) as f:\n",
    "    content = json.loads(f.read().decode())"
   ]
  },
  {
   "cell_type": "markdown",
   "metadata": {},
   "source": [
    "# Get class notation"
   ]
  },
  {
   "cell_type": "code",
   "execution_count": null,
   "metadata": {},
   "outputs": [],
   "source": [
    "classes = content['classes']\n",
    "classes"
   ]
  },
  {
   "cell_type": "markdown",
   "metadata": {},
   "source": [
    "# Search for images according to some criteria"
   ]
  },
  {
   "cell_type": "code",
   "execution_count": null,
   "metadata": {
    "collapsed": true,
    "jupyter": {
     "outputs_hidden": true
    }
   },
   "outputs": [],
   "source": [
    "# Use the string 'path' as 3rd argument in case you would like to retrieve the file paths only.\n",
    "# Search the class: 'Coastal lagoons'\n",
    "query = Query(content['tree'], \n",
    "               {'class': ['Coastal lagoons']}, 'path')\n",
    "query"
   ]
  },
  {
   "cell_type": "markdown",
   "metadata": {},
   "source": [
    "# Read the content of an image file"
   ]
  },
  {
   "cell_type": "code",
   "execution_count": null,
   "metadata": {},
   "outputs": [],
   "source": [
    "infile = '/vsizip//vsicurl/https://jeodpp.jrc.ec.europa.eu/ftp/public/MachineLearning/SatImNet/BigEarthNet-v1.0/2017/07/201707_10.zip/S2A_MSIL2A_20170704T112111_10_20/S2A_MSIL2A_20170704T112111_10_20_B04.tif'\n",
    "Info, I = gdalRead(infile)\n",
    "Info"
   ]
  },
  {
   "cell_type": "code",
   "execution_count": null,
   "metadata": {},
   "outputs": [],
   "source": [
    "# Display images\n",
    "fig, axarr = plt.subplots(1, 1, figsize=(6, 6))\n",
    "axarr.axis('off')\n",
    "axarr.imshow(I)\n",
    "plt.tight_layout(h_pad=0.1, w_pad=0.1)\n",
    "plt.show()"
   ]
  },
  {
   "cell_type": "markdown",
   "metadata": {},
   "source": [
    "> **In order to read many images via the _vsicurl_ driver, please use the command _gdal.VSICurlClearCache()_ after every _gdalRead_ command.**"
   ]
  }
 ],
 "metadata": {
  "kernelspec": {
   "display_name": "Python 3",
   "language": "python",
   "name": "python3"
  },
  "language_info": {
   "codemirror_mode": {
    "name": "ipython",
    "version": 3
   },
   "file_extension": ".py",
   "mimetype": "text/x-python",
   "name": "python",
   "nbconvert_exporter": "python",
   "pygments_lexer": "ipython3",
   "version": "3.6.8"
  }
 },
 "nbformat": 4,
 "nbformat_minor": 4
}
