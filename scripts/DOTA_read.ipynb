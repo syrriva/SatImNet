{
 "cells": [
  {
   "cell_type": "markdown",
   "metadata": {},
   "source": [
    "# DOTA training set @JEODPP\n",
    "\n",
    "- This notebook demonstrates how the user can have access to the **DOTA** collection stored at the JEODPP EOS storage system.\n",
    "- More specifically, it contains different ways of retrieving the **DOTA** images (input images and masks containing the class labels) which can be used as training data.\n",
    "\n",
    "**For more information:** \n",
    "\n",
    "- @GitLab: https://jeodpp.jrc.ec.europa.eu/apps/gitlab/jeodpp-services/training-sets-for-earth-observation-applications/-/wikis/home\n",
    "- @Connected: https://connected.cnect.cec.eu.int/groups/bigdataeoss \n",
    "- @Internet: https://jeodpp.jrc.ec.europa.eu/home/\n",
    "\n",
    "**Contacts:**  jrc-jeodpp@ec.europa.eu\n",
    "\n",
    "**Source data:** https://captain-whu.github.io/DOTA/dataset.html\n",
    "\n",
    "<img src=\"https://cidportal.jrc.ec.europa.eu/services/shared/html/JRClogo2.png\" width=\"200\" height=\"200\" /> <img src=\"https://cidportal.jrc.ec.europa.eu/services/shared/html/JRCBigDataPlatform_512.png\" width=\"200\" height=\"200\" /> "
   ]
  },
  {
   "cell_type": "code",
   "execution_count": null,
   "metadata": {},
   "outputs": [],
   "source": [
    "import numpy as np\n",
    "import os, fnmatch, urllib.request\n",
    "import pandas as pd\n",
    "import json \n",
    "import matplotlib.pyplot as plt"
   ]
  },
  {
   "cell_type": "code",
   "execution_count": null,
   "metadata": {},
   "outputs": [],
   "source": [
    "# Please, download the scripts Query.py and gdalRead.py into the working directory\n",
    "from Query import Query\n",
    "from gdalRead import gdalRead"
   ]
  },
  {
   "cell_type": "code",
   "execution_count": null,
   "metadata": {},
   "outputs": [],
   "source": [
    "%%HTML\n",
    "<style type=\"text/css\">\n",
    "table.dataframe td, table.dataframe th {\n",
    "    border: 1px  black solid !important;\n",
    "  color: black !important;\n",
    "}\n",
    "</style>"
   ]
  },
  {
   "cell_type": "code",
   "execution_count": null,
   "metadata": {},
   "outputs": [],
   "source": [
    "mainfolder = 'https://jeodpp.jrc.ec.europa.eu/ftp/public/MachineLearning/SatImNet'\n",
    "collection = 'DOTA'"
   ]
  },
  {
   "cell_type": "markdown",
   "metadata": {},
   "source": [
    "# Get info for the dataset"
   ]
  },
  {
   "cell_type": "code",
   "execution_count": null,
   "metadata": {
    "scrolled": true
   },
   "outputs": [],
   "source": [
    "# Read general info for all the datasets\n",
    "df = pd.read_json(os.path.join(mainfolder, 'Table.json'))\n",
    "cols = list(df.columns)\n",
    "cols.remove('Feature')\n",
    "df = df[['Feature']+cols]\n",
    "df"
   ]
  },
  {
   "cell_type": "code",
   "execution_count": null,
   "metadata": {},
   "outputs": [],
   "source": [
    "# Read specific info for DOTA\n",
    "pd.set_option('display.max_colwidth', 200)\n",
    "try: df.set_index('Feature', inplace=True);\n",
    "except: pass\n",
    "df[[collection]]"
   ]
  },
  {
   "cell_type": "markdown",
   "metadata": {},
   "source": [
    "# Read the structure of the DOTA dataset"
   ]
  },
  {
   "cell_type": "code",
   "execution_count": null,
   "metadata": {},
   "outputs": [],
   "source": [
    "with urllib.request.urlopen(os.path.join(mainfolder, collection, 'content_public.json')) as f:\n",
    "    content = json.loads(f.read().decode())"
   ]
  },
  {
   "cell_type": "markdown",
   "metadata": {},
   "source": [
    "# Get class notation"
   ]
  },
  {
   "cell_type": "code",
   "execution_count": null,
   "metadata": {},
   "outputs": [],
   "source": [
    "classes = content['classes']\n",
    "classes"
   ]
  },
  {
   "cell_type": "markdown",
   "metadata": {},
   "source": [
    "# Search for images according to some criteria"
   ]
  },
  {
   "cell_type": "code",
   "execution_count": null,
   "metadata": {},
   "outputs": [],
   "source": [
    "# Use the string 'path' as 3rd argument in case you would like to retrieve the file paths only.\n",
    "# Search for png and two classes: 'plane', 'small-vehicle'\n",
    "query = Query(content['tree'], \n",
    "               {'genre': 'png', 'class': ['plane', 'small-vehicle']}, 'path')\n",
    "query"
   ]
  },
  {
   "cell_type": "code",
   "execution_count": null,
   "metadata": {},
   "outputs": [],
   "source": [
    "# Use the string 'path' as 3rd argument in case you would like to retrieve the file paths only.\n",
    "# Search for files having specific size in terms of rows and columns\n",
    "query = Query(content['tree'], \n",
    "               {'type': 'file', 'metainfo_columns': [2000, 5000], 'metainfo_rows': [2000, 4000]})\n",
    "query"
   ]
  },
  {
   "cell_type": "markdown",
   "metadata": {},
   "source": [
    "# Read the content of an image file"
   ]
  },
  {
   "cell_type": "code",
   "execution_count": null,
   "metadata": {},
   "outputs": [],
   "source": [
    "# Read a mask containing class labels\n",
    "infile = '/vsizip//vsicurl/https://jeodpp.jrc.ec.europa.eu/ftp/public/MachineLearning/SatImNet/DOTA/train/labelTxt-v1.0/labelTxt.zip/P0119.png'\n",
    "InfoMask, Mask = gdalRead(infile)\n",
    "InfoMask"
   ]
  },
  {
   "cell_type": "code",
   "execution_count": null,
   "metadata": {},
   "outputs": [],
   "source": [
    "# Read the respective image\n",
    "query = Query(content['tree'], {'name': os.path.basename(infile), 'class': []}, 'path')\n",
    "if len(query) > 0:\n",
    "    Info, Image = gdalRead(query[0])\n",
    "    print(Info)"
   ]
  },
  {
   "cell_type": "code",
   "execution_count": null,
   "metadata": {},
   "outputs": [],
   "source": [
    "# Display images\n",
    "fig, axarr = plt.subplots(1, 2, figsize=(15, 10))\n",
    "axarr[0].axis('off')\n",
    "axarr[1].axis('off')\n",
    "axarr[0].imshow(Image)\n",
    "axarr[1].imshow(Mask)\n",
    "plt.tight_layout(h_pad=0.1, w_pad=0.1)\n",
    "plt.show()"
   ]
  },
  {
   "cell_type": "code",
   "execution_count": null,
   "metadata": {},
   "outputs": [],
   "source": [
    "plt.figure(figsize=(20, 20), num=None)\n",
    "plt.imshow(Image)\n",
    "plt.imshow(Mask, alpha=0.7)\n",
    "plt.show()"
   ]
  },
  {
   "cell_type": "markdown",
   "metadata": {},
   "source": [
    "# Imageshow"
   ]
  },
  {
   "cell_type": "code",
   "execution_count": null,
   "metadata": {},
   "outputs": [],
   "source": [
    "# Use the string 'path' as 3rd argument in case you would like to retrieve the file paths only.\n",
    "# Search for png and two class: 'swimming-pool'\n",
    "query = Query(content['tree'], \n",
    "               {'genre': 'png', 'class': ['swimming-pool']}, 'path')"
   ]
  },
  {
   "cell_type": "code",
   "execution_count": null,
   "metadata": {},
   "outputs": [],
   "source": [
    "# Press x to exit\n",
    "from IPython.display import display, clear_output\n",
    "f, axarr = plt.subplots(5, 2)\n",
    "f.set_size_inches(20, 18)\n",
    "val = 0\n",
    "for idx in np.arange(0,len(query),10):\n",
    "    pos = 0\n",
    "    for q in range(5):\n",
    "        _, I = gdalRead(query[idx+pos])\n",
    "        queryI = Query(content['tree'], {'name': os.path.basename(query[idx+pos]), 'class': []}, 'path_v')\n",
    "        _, In = gdalRead(queryI[0])\n",
    "        axarr[q,0].axis('off')\n",
    "        axarr[q,0].imshow(In)\n",
    "        axarr[q,1].axis('off')\n",
    "        axarr[q,1].imshow(I==classes['swimming-pool'])\n",
    "        pos += 2\n",
    "    h = plt.subplots_adjust(hspace=0.05, wspace=0.001)\n",
    "    display(f)\n",
    "    if val != 'p':\n",
    "        val = input(\"Press Enter to continue...\")\n",
    "        if val == 'x':\n",
    "            clear_output(wait = True)\n",
    "            break\n",
    "    clear_output(wait = True)"
   ]
  },
  {
   "cell_type": "markdown",
   "metadata": {},
   "source": [
    "> **In order to read many images via the _vsicurl_ driver, please use the command _gdal.VSICurlClearCache()_ after every _gdalRead_ command.**"
   ]
  }
 ],
 "metadata": {
  "kernelspec": {
   "display_name": "Python 3",
   "language": "python",
   "name": "python3"
  },
  "language_info": {
   "codemirror_mode": {
    "name": "ipython",
    "version": 3
   },
   "file_extension": ".py",
   "mimetype": "text/x-python",
   "name": "python",
   "nbconvert_exporter": "python",
   "pygments_lexer": "ipython3",
   "version": "3.6.8"
  }
 },
 "nbformat": 4,
 "nbformat_minor": 4
}
