{
 "cells": [
  {
   "cell_type": "markdown",
   "metadata": {},
   "source": [
    "# Semantic metalayer\n",
    "\n",
    "This notebook demonstrates how queries that use the semantic metalayer operate.\n",
    "\n",
    "**For more information:** \n",
    "\n",
    "- @GitLab: https://jeodpp.jrc.ec.europa.eu/apps/gitlab/jeodpp-services/training-sets-for-earth-observation-applications/-/wikis/home\n",
    "- @Connected: https://connected.cnect.cec.eu.int/groups/bigdataeoss \n",
    "- @Internet: https://jeodpp.jrc.ec.europa.eu/home/\n",
    "\n",
    "**Contacts:**  jrc-jeodpp@ec.europa.eu\n",
    "\n",
    "**Source data:** http://bigearth.net/\n",
    "\n",
    "<img src=\"https://cidportal.jrc.ec.europa.eu/services/shared/html/JRClogo2.png\" width=\"200\" height=\"200\" /> <img src=\"https://cidportal.jrc.ec.europa.eu/services/shared/html/JRCBigDataPlatform_512.png\" width=\"200\" height=\"200\" /> "
   ]
  },
  {
   "cell_type": "code",
   "execution_count": null,
   "metadata": {},
   "outputs": [],
   "source": [
    "import os, json, urllib.request\n",
    "from copy import copy"
   ]
  },
  {
   "cell_type": "code",
   "execution_count": null,
   "metadata": {},
   "outputs": [],
   "source": [
    "# Please, download the script Query.py into the working directory\n",
    "from Query import Query"
   ]
  },
  {
   "cell_type": "code",
   "execution_count": null,
   "metadata": {},
   "outputs": [],
   "source": [
    "def SearchLayer(layer, term, flag=1, elastic=0):\n",
    "    # flag=1: pick-up the specific instance and all the terms of the level at which the instance has been found\n",
    "    # flag=2: pick-up the specific instance, all the terms of the level at which the instance has been found and all the parent nodes\n",
    "    # elastic=1: allows for elastic search, that is, allows for partial matching\n",
    "    out = []\n",
    "    term = term.lower()\n",
    "    \n",
    "    if isinstance(layer, dict) == True:\n",
    "        keys = list(layer.keys())\n",
    "    else:\n",
    "        keys = layer\n",
    "        \n",
    "    if flag == 1:\n",
    "        if term in keys:\n",
    "            out = keys\n",
    "    elif flag == 2:\n",
    "        if elastic == 0 and term in keys:\n",
    "            out = [term]\n",
    "        elif elastic == 1:\n",
    "            rout = []\n",
    "            for item in keys:\n",
    "                if term in item:\n",
    "                    rout.append(item)\n",
    "            out = rout\n",
    "    if isinstance(layer, dict) == True:\n",
    "        for k in keys:\n",
    "            res = SearchLayer(layer[k], term, flag, elastic)\n",
    "            if len(res) > 0:\n",
    "                if isinstance(res, list):\n",
    "                    out = out+[k]+res\n",
    "                else:\n",
    "                    out = out+[k, res]\n",
    "    return list(dict.fromkeys(out))"
   ]
  },
  {
   "cell_type": "markdown",
   "metadata": {},
   "source": [
    "## Definition of the hierarchy of the terms"
   ]
  },
  {
   "cell_type": "code",
   "execution_count": null,
   "metadata": {},
   "outputs": [],
   "source": [
    "metalayer = {\n",
    "    \"built-up\": {\n",
    "        \"residential\": [\n",
    "                        \"building\", \"damaged building\", \"cottage\", \"duplex\", \"hut\", \"tent\", \"shed\", \"damaged building\", \"residential building\"\n",
    "                        ],\n",
    "        \"industrial\": [\n",
    "                        \"factory\", \"cotton mill\", \"gas house\", \"damaged building\", \"industrial building\"\n",
    "                        ],\n",
    "        \"facilities\": [\n",
    "                        \"baseball court\", \"tennis court\", \"basketball court\", \"ground track field\", \"baseball diamond\", \"ground track field\",\n",
    "                        \"soccer ball field\", \"swimming pool\", \"damaged building\", \"facility\", \"vehicle lot\"\n",
    "                        ],\n",
    "        \"infrastructure\": [\n",
    "                        \"harbor\", \"bridge\", \"roundabout\", \"storage tank\", \"container-crane\", \"tower crane\", \"aircraft hangar\", \"damaged building\",\n",
    "                        \"helipad\", \"storage tank\", \"shipping container lot\", \"pylon\", \"highway\"\n",
    "                            ],\n",
    "        \"construction\": [\n",
    "                         \"construction site\", \"tower\"\n",
    "                            ],\n",
    "        \"areas\": [\n",
    "                    \"continuous urban fabric\", \"discontinuous urban fabric\"\n",
    "                    ]\n",
    "    },\n",
    "    \"transport means\": {\n",
    "        \"vehicle\": [\n",
    "                    \"large vehicle\", \"small vehicle\", \"passenger vehicle\", \"small car\", \"bus\", \"pickup truck\", \"utility truck\", \"truck\", \"cargo truck\",\n",
    "                    \"truck tractor\", \"box trailer\", \"trailer\", \"flatbed trailer\", \"liquid tank\", \"crane truck\", \"railway vehicle\", \"passenger car\",\n",
    "                    \"cargo car\", \"container car\", \"flat car\", \"tank car\", \"locomotive\", \"reach stacker\", \"straddle carrier\", \"mobile crane\",\n",
    "                    \"dump truck\", \"haul truck\", \"scraper\", \"tractor\", \"front loader\", \"bulldozer\", \"excavator\", \"cement mixer\", \"ground grader\"\n",
    "                    ],\n",
    "        \"flying\": [\n",
    "                    \"helicopter\", \"plane\", \"fixed-wing aircraft\", \"small aircraft\", \"passenger plane\", \"cargo plane\"\n",
    "                    ],\n",
    "        \"vessel\": [\n",
    "                    \"ship\", \"maritime vessel\", \"motorboat\", \"sailboat\", \"tugboat\", \"barge\", \"fishing vessel\", \"ferry\", \"yacht\", \"container ship\",\n",
    "                    \"oil tanker\", \"engineering vehicle\" \n",
    "                    ]\n",
    "    },\n",
    "    \"object\": {\n",
    "        \"man-made\": [\n",
    "                      \"shipping container\", \"pylon\", \"tower\"\n",
    "                        ]\n",
    "    },\n",
    "    \"natural areas\": { \n",
    "        \"air\": [\n",
    "                \"cloud\"\n",
    "                ],\n",
    "        \"land\": [\n",
    "                  \"permanently irrigated land\", \"sclerophyllous vegetation\", \"beaches\", \"dunes\", \"sands\", \"estuaries\", \n",
    "                  \"vineyards\", \"coniferous forest\", \"mixed forest\", \"non-irrigated arable land\", \"fruit trees\", \"berry plantations\", \n",
    "                  \"agro-forestry areas\", \"transitional woodland\", \"shrub\", \"land principally occupied by agriculture\", \"broad-leaved forest\",\n",
    "                  \"annual crop\", \"permanent crop\", \"herbaceous vegetation\", \"pasture\", \"forest\"\n",
    "                    ],\n",
    "        \"water\": [\n",
    "                   \"sea\", \"ocean\", \"water courses\", \"water bodies\", \"river\", \"lake\"\n",
    "                    ]\n",
    "    }\n",
    "}"
   ]
  },
  {
   "cell_type": "markdown",
   "metadata": {},
   "source": [
    "### Store the metalayer structure"
   ]
  },
  {
   "cell_type": "code",
   "execution_count": null,
   "metadata": {},
   "outputs": [],
   "source": [
    "# Uncomment in case you would like to store the metalayer structure\n",
    "#with open(os.path.join('metalayer.json'), 'w', encoding='utf-8') as f:\n",
    "#    json.dump(metalayer, f, indent=4)"
   ]
  },
  {
   "cell_type": "markdown",
   "metadata": {},
   "source": [
    "### Load the metalayer structure"
   ]
  },
  {
   "cell_type": "code",
   "execution_count": null,
   "metadata": {},
   "outputs": [],
   "source": [
    "mainfolder = 'https://jeodpp.jrc.ec.europa.eu/ftp/public/MachineLearning/SatImNet/'"
   ]
  },
  {
   "cell_type": "code",
   "execution_count": null,
   "metadata": {},
   "outputs": [],
   "source": [
    "%%time\n",
    "with urllib.request.urlopen(os.path.join(mainfolder, 'metalayer.json')) as f:\n",
    "    metalayer = json.loads(f.read().decode())"
   ]
  },
  {
   "cell_type": "code",
   "execution_count": null,
   "metadata": {},
   "outputs": [],
   "source": [
    "# Example\n",
    "metalayer['built-up']['residential']"
   ]
  },
  {
   "cell_type": "markdown",
   "metadata": {},
   "source": [
    "# Search inside the metalayer"
   ]
  },
  {
   "cell_type": "code",
   "execution_count": null,
   "metadata": {},
   "outputs": [],
   "source": [
    "# Search for the term 'building'\n",
    "SearchLayer(metalayer, 'Building', 2, 1)"
   ]
  },
  {
   "cell_type": "code",
   "execution_count": null,
   "metadata": {},
   "outputs": [],
   "source": [
    "SearchLayer(metalayer, 'court', 2, 1)"
   ]
  },
  {
   "cell_type": "markdown",
   "metadata": {},
   "source": [
    "## Example: Search files in DOTA dataset"
   ]
  },
  {
   "cell_type": "code",
   "execution_count": null,
   "metadata": {},
   "outputs": [],
   "source": [
    "collection = 'DOTA'"
   ]
  },
  {
   "cell_type": "code",
   "execution_count": null,
   "metadata": {},
   "outputs": [],
   "source": [
    "with urllib.request.urlopen(os.path.join(mainfolder, collection, 'content.json')) as f:\n",
    "    content = json.loads(f.read().decode())"
   ]
  },
  {
   "cell_type": "code",
   "execution_count": null,
   "metadata": {},
   "outputs": [],
   "source": [
    "# Search for the keyword 'court'\n",
    "keywords = SearchLayer(metalayer, 'COURT', 2, 1)\n",
    "nkeywords = copy(keywords)\n",
    "for item in nkeywords:\n",
    "    if '-' in item:\n",
    "        keywords.append(item.replace('-', ' '))\n",
    "    if ' ' in item:\n",
    "        keywords.append(item.replace(' ', '-'))\n",
    "keywords"
   ]
  },
  {
   "cell_type": "code",
   "execution_count": null,
   "metadata": {},
   "outputs": [],
   "source": [
    "Q = []\n",
    "for k in keywords:\n",
    "    print('Key:', k)\n",
    "    query = Query(content['tree'], \n",
    "                   {'genre': 'png', 'class': [k]}, 'path')\n",
    "    Q += query    \n",
    "Q"
   ]
  },
  {
   "cell_type": "code",
   "execution_count": null,
   "metadata": {},
   "outputs": [],
   "source": []
  }
 ],
 "metadata": {
  "kernelspec": {
   "display_name": "Python 3",
   "language": "python",
   "name": "python3"
  },
  "language_info": {
   "codemirror_mode": {
    "name": "ipython",
    "version": 3
   },
   "file_extension": ".py",
   "mimetype": "text/x-python",
   "name": "python",
   "nbconvert_exporter": "python",
   "pygments_lexer": "ipython3",
   "version": "3.6.8"
  }
 },
 "nbformat": 4,
 "nbformat_minor": 4
}
